{
 "cells": [
  {
   "cell_type": "code",
   "execution_count": 2,
   "metadata": {
    "collapsed": true,
    "ExecuteTime": {
     "end_time": "2024-03-26T15:14:06.389107300Z",
     "start_time": "2024-03-26T15:14:06.386599200Z"
    }
   },
   "outputs": [],
   "source": [
    "import matplotlib.pyplot as plt\n",
    "from SimuBox import vectorize\n",
    "from typing import Optional"
   ]
  },
  {
   "cell_type": "code",
   "execution_count": 2,
   "outputs": [],
   "source": [
    "def plot_trans(trans: Optional[dict] = None, **kwargs):\n",
    "    if trans is None:\n",
    "        trans = dict()\n",
    "    alpha = trans.get(\"alpha\", 0.5)\n",
    "    ls = trans.get(\"ls\", \"--\")\n",
    "    lw = trans.get(\"lw\", 2.5)\n",
    "    c = trans.get(\"c\", \"k\")\n",
    "    if ys := trans.get(\"ys\"):\n",
    "        for y in ys:\n",
    "            plt.axhline(y=y, c=c, alpha=alpha, ls=ls, lw=lw)\n",
    "\n",
    "    if xs := trans.get(\"xs\"):\n",
    "        for x in xs:\n",
    "            plt.axvline(x=x, c=c, alpha=alpha, ls=ls, lw=lw)"
   ],
   "metadata": {
    "collapsed": false,
    "ExecuteTime": {
     "end_time": "2024-03-26T13:44:56.110069500Z",
     "start_time": "2024-03-26T13:44:56.106924300Z"
    }
   }
  }
 ],
 "metadata": {
  "kernelspec": {
   "display_name": "Python 3",
   "language": "python",
   "name": "python3"
  },
  "language_info": {
   "codemirror_mode": {
    "name": "ipython",
    "version": 2
   },
   "file_extension": ".py",
   "mimetype": "text/x-python",
   "name": "python",
   "nbconvert_exporter": "python",
   "pygments_lexer": "ipython2",
   "version": "2.7.6"
  }
 },
 "nbformat": 4,
 "nbformat_minor": 0
}
